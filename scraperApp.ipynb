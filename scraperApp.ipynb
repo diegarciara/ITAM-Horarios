{
 "cells": [
  {
   "cell_type": "code",
   "execution_count": 3,
   "metadata": {},
   "outputs": [
    {
     "name": "stderr",
     "output_type": "stream",
     "text": [
      "/Users/diegarciara/Desktop/JupyterApps/env/lib/python3.9/site-packages/xlsxwriter/workbook.py:329: UserWarning: Calling close() on already closed file.\n",
      "  warn(\"Calling close() on already closed file.\")\n"
     ]
    }
   ],
   "source": [
    "#¿Qué materias te gustaría descargar?\n",
    "listC=[\"ADM-15507\", \"MAT-12101\",\"MAT-12310\",\"CON-10002\",\n",
    "      \"ECO-12102\",\"ADM-12108\",\"EGN-17123\",\"LEN-12702\"]\n",
    "\n",
    "#Paquetes necesarios:\n",
    "import pandas as pd\n",
    "import time\n",
    "from bs4 import BeautifulSoup as bs\n",
    "from selenium import webdriver\n",
    "\n",
    "driver = webdriver.Firefox(executable_path=\"PATH\") #Escribe el PATH de geckodriver\n",
    "driver.get(\"https://serviciosweb.itam.mx/EDSUP/BWZKSENP.P_Horarios1?s=1809\") #Cambia cada periodo\n",
    "soup=bs(driver.page_source, \"html.parser\")\n",
    "listA=[e.text for e in soup(\"option\")] #Las opciones utilizan en #1\n",
    "listB=[e[0:9] for e in listA] #Extracción de clave de materias\n",
    "\n",
    "time.sleep(5)\n",
    "\n",
    "listD=[listB.index(u)+1 for u in listC]\n",
    "listE=[]\n",
    "\n",
    "for element in listD:\n",
    "    k=element\n",
    "    boton=driver.find_element_by_xpath(\"/html/body/div[3]/form/input[2]\")\n",
    "    materiak=driver.find_element_by_xpath('/html/body/div[3]/form/select/option[{}]'.format(k))\n",
    "    time.sleep(2)\n",
    "    materiak.click()\n",
    "    \n",
    "    time.sleep(7)\n",
    "    boton.click()\n",
    "    \n",
    "    time.sleep(5)\n",
    "    tablak=pd.read_html(driver.page_source)\n",
    "    listE.append(tablak)\n",
    "    driver.back()\n",
    "\n",
    "driver.quit()\n",
    "\n",
    "listF=[index for index, value in enumerate(listE)]\n",
    "\n",
    "writer = pd.ExcelWriter(\"horarios.xlsx\", engine = \"xlsxwriter\")\n",
    "\n",
    "n=1\n",
    "while n!=len(listF)+1:\n",
    "    listE[n-1][2].to_excel(writer, sheet_name = \"Sheet{}\".format(n))\n",
    "    n+=1\n",
    "\n",
    "writer.save()"
   ]
  }
 ],
 "metadata": {
  "kernelspec": {
   "display_name": "Python 3",
   "language": "python",
   "name": "python3"
  },
  "language_info": {
   "codemirror_mode": {
    "name": "ipython",
    "version": 3
   },
   "file_extension": ".py",
   "mimetype": "text/x-python",
   "name": "python",
   "nbconvert_exporter": "python",
   "pygments_lexer": "ipython3",
   "version": "3.9.1"
  }
 },
 "nbformat": 4,
 "nbformat_minor": 4
}
